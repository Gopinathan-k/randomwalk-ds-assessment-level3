{
 "cells": [
  {
   "cell_type": "code",
   "execution_count": 4,
   "id": "eafc54c1",
   "metadata": {},
   "outputs": [],
   "source": [
    "import pandas as pd\n",
    "import matplotlib.pyplot as plt"
   ]
  },
  {
   "cell_type": "code",
   "execution_count": 8,
   "id": "8f06e314",
   "metadata": {},
   "outputs": [],
   "source": [
    "book=pd.read_csv(\"books.csv\")\n",
    "book_tag=pd.read_csv(\"book_tags.csv\")\n",
    "rating=pd.read_csv(\"ratings.csv\")"
   ]
  },
  {
   "cell_type": "code",
   "execution_count": 11,
   "id": "1110cff1",
   "metadata": {},
   "outputs": [
    {
     "name": "stdout",
     "output_type": "stream",
     "text": [
      "     book_id  goodreads_book_id  best_book_id   work_id  books_count  \\\n",
      "0         15              48855         48855   3532896          710   \n",
      "1         40              19501         19501   3352398          185   \n",
      "2         81               7445          7445   2944133           92   \n",
      "3         82               1845          1845   3284484          108   \n",
      "4         87               1617          1617    265616          109   \n",
      "..       ...                ...           ...       ...          ...   \n",
      "394     9788           23399022      23399022  42955411           21   \n",
      "395     9847           20685373      20685373  40000267           18   \n",
      "396     9887             503248        503248    491309           21   \n",
      "397     9960             127970        127970   1066433           26   \n",
      "398     9968             554674        554674    548132           34   \n",
      "\n",
      "           isbn        isbn13  \\\n",
      "0     553296981  9.780553e+12   \n",
      "1     143038419  9.780143e+12   \n",
      "2    074324754X  9.780743e+12   \n",
      "3     385486804  9.780385e+12   \n",
      "4     374500010  9.780375e+12   \n",
      "..          ...           ...   \n",
      "394   525427651  9.780525e+12   \n",
      "395   307720659  9.780308e+12   \n",
      "396   307381269  9.780307e+12   \n",
      "397   739416383  9.780739e+12   \n",
      "398    60005777  9.780060e+12   \n",
      "\n",
      "                                               authors  \\\n",
      "0    Anne Frank, Eleanor Roosevelt, B.M. Mooyaart-D...   \n",
      "1                                    Elizabeth Gilbert   \n",
      "2                                      Jeannette Walls   \n",
      "3                                         Jon Krakauer   \n",
      "4                           Elie Wiesel, Marion Wiesel   \n",
      "..                                                 ...   \n",
      "394  Amanda Berry, Gina DeJesus, Mary Jordan, Kevin...   \n",
      "395                                           Suki Kim   \n",
      "396                      Howard Dully, Charles Fleming   \n",
      "397                                         Terry Ryan   \n",
      "398                            Maria Augusta von Trapp   \n",
      "\n",
      "     original_publication_year  \\\n",
      "0                       1947.0   \n",
      "1                       2006.0   \n",
      "2                       2005.0   \n",
      "3                       1996.0   \n",
      "4                       1958.0   \n",
      "..                         ...   \n",
      "394                     2015.0   \n",
      "395                     2014.0   \n",
      "396                     2007.0   \n",
      "397                     2001.0   \n",
      "398                     1949.0   \n",
      "\n",
      "                                        original_title  ...  \\\n",
      "0    Het Achterhuis: Dagboekbrieven 14 juni 1942 - ...  ...   \n",
      "1    Eat, pray, love: one woman's search for everyt...  ...   \n",
      "2                                     The Glass Castle  ...   \n",
      "3                                        Into the Wild  ...   \n",
      "4                              Un di Velt Hot Geshvign  ...   \n",
      "..                                                 ...  ...   \n",
      "394                                               Hope  ...   \n",
      "395  Without You, There Is No Us: My Time with the ...  ...   \n",
      "396                                        My Lobotomy  ...   \n",
      "397  The Prize Winner of Defiance, Ohio: How My Mot...  ...   \n",
      "398              The Story of the Trapp Family Singers  ...   \n",
      "\n",
      "    work_ratings_count work_text_reviews_count  ratings_1  ratings_2  \\\n",
      "0              2024493                   20825      45225      91270   \n",
      "1              1206597                   49714     100373     149549   \n",
      "2               637866                   40777       7901      18922   \n",
      "3               665377                   17299      19229      35567   \n",
      "4               707879                   22001       7761      18539   \n",
      "..                 ...                     ...        ...        ...   \n",
      "394               9102                     927        101        195   \n",
      "395              10002                    1426        145        523   \n",
      "396               9615                    1247        142        788   \n",
      "397              11151                    1849        118        498   \n",
      "398              10234                     599        297        518   \n",
      "\n",
      "     ratings_3  ratings_4  ratings_5  \\\n",
      "0       355756     656870     875372   \n",
      "1       310212     332191     314272   \n",
      "2        85191     227750     298102   \n",
      "3       135199     248287     227095   \n",
      "4        90575     230227     360777   \n",
      "..         ...        ...        ...   \n",
      "394       1180       3301       4325   \n",
      "395       2526       4328       2480   \n",
      "396       2979       3585       2121   \n",
      "397       2739       4816       2980   \n",
      "398       2345       3406       3668   \n",
      "\n",
      "                                             image_url  \\\n",
      "0    https://images.gr-assets.com/books/1358276407m...   \n",
      "1    https://images.gr-assets.com/books/1503066414m...   \n",
      "2    https://images.gr-assets.com/books/1400930557m...   \n",
      "3    https://images.gr-assets.com/books/1403173986m...   \n",
      "4    https://images.gr-assets.com/books/1473495285m...   \n",
      "..                                                 ...   \n",
      "394  https://images.gr-assets.com/books/1421708177m...   \n",
      "395  https://images.gr-assets.com/books/1405292426m...   \n",
      "396  https://images.gr-assets.com/books/1320449273m...   \n",
      "397  https://s.gr-assets.com/assets/nophoto/book/11...   \n",
      "398  https://s.gr-assets.com/assets/nophoto/book/11...   \n",
      "\n",
      "                                       small_image_url  NonEnglish  \n",
      "0    https://images.gr-assets.com/books/1358276407s...           0  \n",
      "1    https://images.gr-assets.com/books/1503066414s...           0  \n",
      "2    https://images.gr-assets.com/books/1400930557s...           0  \n",
      "3    https://images.gr-assets.com/books/1403173986s...           0  \n",
      "4    https://images.gr-assets.com/books/1473495285s...           0  \n",
      "..                                                 ...         ...  \n",
      "394  https://images.gr-assets.com/books/1421708177s...           0  \n",
      "395  https://images.gr-assets.com/books/1405292426s...           0  \n",
      "396  https://images.gr-assets.com/books/1320449273s...           0  \n",
      "397  https://s.gr-assets.com/assets/nophoto/book/50...           0  \n",
      "398  https://s.gr-assets.com/assets/nophoto/book/50...           0  \n",
      "\n",
      "[399 rows x 24 columns]\n"
     ]
    }
   ],
   "source": [
    "print(book)\n"
   ]
  },
  {
   "cell_type": "code",
   "execution_count": 12,
   "id": "db01923c",
   "metadata": {},
   "outputs": [
    {
     "name": "stdout",
     "output_type": "stream",
     "text": [
      "       goodreads_book_id  tag_id  count\n",
      "0                    386   30574    565\n",
      "1                    386   19733    280\n",
      "2                    386   21689    182\n",
      "3                    386   21773     99\n",
      "4                    386   19742     78\n",
      "...                  ...     ...    ...\n",
      "40195           31845516   13254      7\n",
      "40196           31845516   19734      7\n",
      "40197           31845516     833      7\n",
      "40198           31845516   23471      6\n",
      "40199           31845516    9477      6\n",
      "\n",
      "[40200 rows x 3 columns]\n"
     ]
    }
   ],
   "source": [
    "print(book_tag)\n"
   ]
  },
  {
   "cell_type": "code",
   "execution_count": 13,
   "id": "f6eb83ad",
   "metadata": {},
   "outputs": [
    {
     "name": "stdout",
     "output_type": "stream",
     "text": [
      "        user_id  book_id  rating\n",
      "0             8     2584       5\n",
      "1             4       87       5\n",
      "2             4      495       4\n",
      "3             9      344       4\n",
      "4             9      372       4\n",
      "...         ...      ...     ...\n",
      "233378    36947     6939       5\n",
      "233379    22352      617       2\n",
      "233380    42785     1613       4\n",
      "233381    10622      610       5\n",
      "233382    35336      317       5\n",
      "\n",
      "[233383 rows x 3 columns]\n"
     ]
    }
   ],
   "source": [
    "\n",
    "print(rating)"
   ]
  },
  {
   "cell_type": "markdown",
   "id": "a318b5a2",
   "metadata": {},
   "source": [
    "# Q1:How many books do not have an original title [books.csv]?"
   ]
  },
  {
   "cell_type": "code",
   "execution_count": 9,
   "id": "4124c09e",
   "metadata": {},
   "outputs": [
    {
     "name": "stdout",
     "output_type": "stream",
     "text": [
      "books that do not have an original title in books.csv is:  36\n"
     ]
    }
   ],
   "source": [
    "print(\"books that do not have an original title in books.csv is: \",book[\"original_title\"].isnull().sum())"
   ]
  },
  {
   "cell_type": "markdown",
   "id": "a4faa9a7",
   "metadata": {},
   "source": [
    "# Q2 How many unique books are present in the dataset ? Evaluate based on the 'book_id' after removing records containing null values for original_title column in [books.csv] and corresponding records in [book_tags.csv] and [ratings.csv]"
   ]
  },
  {
   "cell_type": "code",
   "execution_count": 16,
   "id": "3fe941aa",
   "metadata": {},
   "outputs": [
    {
     "name": "stdout",
     "output_type": "stream",
     "text": [
      "363\n"
     ]
    }
   ],
   "source": [
    "book_new=book.dropna(subset=['original_title'])\n",
    "new_tag=book_tag[book_tag['goodreads_book_id'].isin(book_new[\"book_id\"])]\n",
    "new_rating=rating[rating['book_id'].isin(book_new[\"book_id\"])]\n",
    "val=book_new[\"book_id\"].nunique()\n",
    "print(val)"
   ]
  },
  {
   "cell_type": "markdown",
   "id": "215c7394",
   "metadata": {},
   "source": [
    "# Q3 How many unique users are present in the dataset [ratings.csv] ?"
   ]
  },
  {
   "cell_type": "code",
   "execution_count": 17,
   "id": "d9eaba05",
   "metadata": {},
   "outputs": [
    {
     "name": "stdout",
     "output_type": "stream",
     "text": [
      "Total number of unique present in the rating.csv are:  40836\n"
     ]
    }
   ],
   "source": [
    "print(\"Total number of unique present in the rating.csv are: \",rating[\"user_id\"].nunique())"
   ]
  },
  {
   "cell_type": "markdown",
   "id": "b88f8f52",
   "metadata": {},
   "source": [
    "# Q4 How many unique tags are there in the dataset [book_tags.csv] ?"
   ]
  },
  {
   "cell_type": "code",
   "execution_count": 18,
   "id": "0d325452",
   "metadata": {},
   "outputs": [
    {
     "name": "stdout",
     "output_type": "stream",
     "text": [
      "Total number of unique tags present in the book_tags.csv are:  3651\n"
     ]
    }
   ],
   "source": [
    "print(\"Total number of unique tags present in the book_tags.csv are: \",book_tag[\"tag_id\"].nunique())"
   ]
  },
  {
   "cell_type": "markdown",
   "id": "2d383937",
   "metadata": {},
   "source": [
    "# Q5 Which tag_id is the most frequently used ie. mapped with the highest number of books [book_tags.csv] ? (In case of more than one tag, mention the tag id with the least numerical value)’."
   ]
  },
  {
   "cell_type": "code",
   "execution_count": 20,
   "id": "2063229c",
   "metadata": {},
   "outputs": [
    {
     "name": "stdout",
     "output_type": "stream",
     "text": [
      "the answer is :  4600\n"
     ]
    }
   ],
   "source": [
    "highly_used_tag = book_tag['tag_id'].value_counts().idxmax()\n",
    "print(\"The answer is : \",highly_used_tag)\n"
   ]
  },
  {
   "cell_type": "markdown",
   "id": "0322b66d",
   "metadata": {},
   "source": [
    "# Q6 Which book (title) has the most number of counts of tags given by the user [book_tags.csv,books.csv] ."
   ]
  },
  {
   "cell_type": "code",
   "execution_count": 45,
   "id": "dc06f889",
   "metadata": {},
   "outputs": [
    {
     "ename": "IndexError",
     "evalue": "index 0 is out of bounds for axis 0 with size 0",
     "output_type": "error",
     "traceback": [
      "\u001b[1;31m---------------------------------------------------------------------------\u001b[0m",
      "\u001b[1;31mIndexError\u001b[0m                                Traceback (most recent call last)",
      "\u001b[1;32m<ipython-input-45-54a5ce1b20e7>\u001b[0m in \u001b[0;36m<module>\u001b[1;34m\u001b[0m\n\u001b[0;32m      1\u001b[0m \u001b[0mmost_tagged_book_id\u001b[0m \u001b[1;33m=\u001b[0m \u001b[0mbook_tag\u001b[0m\u001b[1;33m.\u001b[0m\u001b[0mgroupby\u001b[0m\u001b[1;33m(\u001b[0m\u001b[1;34m'goodreads_book_id'\u001b[0m\u001b[1;33m)\u001b[0m\u001b[1;33m[\u001b[0m\u001b[1;34m'count'\u001b[0m\u001b[1;33m]\u001b[0m\u001b[1;33m.\u001b[0m\u001b[0msum\u001b[0m\u001b[1;33m(\u001b[0m\u001b[1;33m)\u001b[0m\u001b[1;33m.\u001b[0m\u001b[0midxmax\u001b[0m\u001b[1;33m(\u001b[0m\u001b[1;33m)\u001b[0m\u001b[1;33m\u001b[0m\u001b[1;33m\u001b[0m\u001b[0m\n\u001b[1;32m----> 2\u001b[1;33m \u001b[0mmost_tagged_book_title\u001b[0m \u001b[1;33m=\u001b[0m \u001b[0mbook\u001b[0m\u001b[1;33m.\u001b[0m\u001b[0mloc\u001b[0m\u001b[1;33m[\u001b[0m\u001b[0mbook\u001b[0m\u001b[1;33m[\u001b[0m\u001b[1;34m'book_id'\u001b[0m\u001b[1;33m]\u001b[0m \u001b[1;33m==\u001b[0m \u001b[0mmost_tagged_book_id\u001b[0m\u001b[1;33m,\u001b[0m \u001b[1;34m'title'\u001b[0m\u001b[1;33m]\u001b[0m\u001b[1;33m.\u001b[0m\u001b[0mvalues\u001b[0m\u001b[1;33m[\u001b[0m\u001b[1;36m0\u001b[0m\u001b[1;33m]\u001b[0m\u001b[1;33m\u001b[0m\u001b[1;33m\u001b[0m\u001b[0m\n\u001b[0m\u001b[0;32m      3\u001b[0m \u001b[0mprint\u001b[0m\u001b[1;33m(\u001b[0m\u001b[1;34mf\"Book with the most number of tag counts: {most_tagged_book_title}\"\u001b[0m\u001b[1;33m)\u001b[0m\u001b[1;33m\u001b[0m\u001b[1;33m\u001b[0m\u001b[0m\n",
      "\u001b[1;31mIndexError\u001b[0m: index 0 is out of bounds for axis 0 with size 0"
     ]
    }
   ],
   "source": [
    "most_tagged_book_id = book_tag.groupby('goodreads_book_id')['count'].sum().idxmax()\n",
    "most_tagged_book_title = book.loc[book['book_id'] == most_tagged_book_id, 'title'].values[0]\n",
    "print(f\"Book with the most number of tag counts: {most_tagged_book_title}\")"
   ]
  },
  {
   "cell_type": "markdown",
   "id": "0aa5cd41",
   "metadata": {},
   "source": [
    "# Q7 Plot a bar chart with top 20 unique tags in descending order of ‘user records’ (the number of users tagged the given tag_id with the goodreads_book_id) [book_tags.csv]\n",
    "\n"
   ]
  },
  {
   "cell_type": "code",
   "execution_count": 33,
   "id": "14402d50",
   "metadata": {},
   "outputs": [
    {
     "data": {
      "text/plain": [
       "Text(0, 0.5, 'User Records')"
      ]
     },
     "execution_count": 33,
     "metadata": {},
     "output_type": "execute_result"
    },
    {
     "data": {
      "image/png": "[encoded data removed]",
      "text/plain": [
       "<Figure size 864x432 with 1 Axes>"
      ]
     },
     "metadata": {
      "needs_background": "light"
     },
     "output_type": "display_data"
    }
   ],
   "source": [
    "top_tags = book_tag.groupby('tag_id')['count'].sum().sort_values(ascending=False).head(20)\n",
    "plt.figure(figsize=(12, 6))\n",
    "top_tags.plot(kind='bar', color='orange')\n",
    "plt.title('Top 20 Tags by User Records')\n",
    "plt.xlabel('Tag ID')\n",
    "plt.ylabel('User Records')"
   ]
  }
 ],
 "metadata": {
  "kernelspec": {
   "display_name": "Python 3",
   "language": "python",
   "name": "python3"
  },
  "language_info": {
   "codemirror_mode": {
    "name": "ipython",
    "version": 3
   },
   "file_extension": ".py",
   "mimetype": "text/x-python",
   "name": "python",
   "nbconvert_exporter": "python",
   "pygments_lexer": "ipython3",
   "version": "3.8.8"
  }
 },
 "nbformat": 4,
 "nbformat_minor": 5
}
